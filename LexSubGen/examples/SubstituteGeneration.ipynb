{
 "cells": [
  {
   "cell_type": "markdown",
   "metadata": {},
   "source": [
    "# Substitute generation examples"
   ]
  },
  {
   "cell_type": "code",
   "execution_count": 1,
   "metadata": {},
   "outputs": [],
   "source": [
    "import sys\n",
    "from pathlib import Path\n",
    "\n",
    "LEXSUBGEN_ROOT = str(Path().resolve().parent)\n",
    "\n",
    "if LEXSUBGEN_ROOT not in sys.path:\n",
    "    sys.path.insert(0, LEXSUBGEN_ROOT)"
   ]
  },
  {
   "cell_type": "code",
   "execution_count": 2,
   "metadata": {},
   "outputs": [],
   "source": [
    "from lexsubgen import SubstituteGenerator"
   ]
  },
  {
   "cell_type": "code",
   "execution_count": 3,
   "metadata": {},
   "outputs": [],
   "source": [
    "CONFIGS_PATH = Path().resolve().parent / \"configs\""
   ]
  },
  {
   "cell_type": "code",
   "execution_count": 4,
   "metadata": {},
   "outputs": [],
   "source": [
    "import os\n",
    "# os.environ[\"CUDA_DEVICE_ORDER\"]=\"PCI_BUS_ID\"\n",
    "os.environ[\"CUDA_VISIBLE_DEVICES\"]=\"1,2\""
   ]
  },
  {
   "cell_type": "code",
   "execution_count": 5,
   "metadata": {},
   "outputs": [],
   "source": [
    "# Loading substitute generator\n",
    "sg = SubstituteGenerator.from_config(\n",
    "    str(CONFIGS_PATH / \"subst_generators\" / \"lexsub\" / \"xlnet_embs.jsonnet\")\n",
    ")"
   ]
  },
  {
   "cell_type": "code",
   "execution_count": 11,
   "metadata": {},
   "outputs": [
    {
     "name": "stdout",
     "output_type": "stream",
     "text": [
      "Sentence: 'The United Nations in East Timor has issued the first indictments of suspects in the atrocities commited during the territory 's 1999 vote to separate from Indonesia . Patricia Nunan reports from Jakarta .'\n",
      "\n",
      "Target word: 'commited'\n",
      "\n",
      "Predicted substitutes ['perpetrate', 'suffer', 'witness', 'unleash', 'conduct', 'report', 'experience', 'occur', 'sustain', 'see']\n"
     ]
    }
   ],
   "source": [
    "sentences = [['The', 'United', 'Nations', 'in', 'East', 'Timor', 'has', 'issued', 'the', 'first', 'indictments', 'of', 'suspects', 'in', 'the', 'atrocities', 'commited', 'during', 'the', 'territory', \"'s\", '1999', 'vote', 'to', 'separate', 'from', 'Indonesia', '.', 'Patricia', 'Nunan', 'reports', 'from', 'Jakarta', '.']]\n",
    "target_ids = [16]\n",
    "substitutes, w2id = sg.generate_substitutes(sentences, target_ids, target_pos=[\"v\"])\n",
    "\n",
    "print(f\"Sentence: '{' '.join(sentences[0])}'\")\n",
    "print()\n",
    "print(f\"Target word: '{sentences[0][target_ids[0]]}'\")\n",
    "print()\n",
    "print(\"Predicted substitutes\", substitutes[0])"
   ]
  },
  {
   "cell_type": "code",
   "execution_count": null,
   "metadata": {},
   "outputs": [],
   "source": []
  },
  {
   "cell_type": "code",
   "execution_count": 12,
   "metadata": {},
   "outputs": [
    {
     "name": "stdout",
     "output_type": "stream",
     "text": [
      "Sentence: 'I love cats .'\n",
      "\n",
      "Target word: 'cats'\n",
      "\n",
      "Predicted substitutes ['dog', 'animal', 'pet', 'bird', 'horse', 'puppy', 'chicken', 'rat', 'wolf', 'cow']\n"
     ]
    }
   ],
   "source": [
    "sentences = [\"I love cats\".split()]\n",
    "target_ids = [2]\n",
    "substitutes, w2id = sg.generate_substitutes(sentences, target_ids, target_pos=[\"n\"])\n",
    "\n",
    "print(f\"Sentence: '{' '.join(sentences[0])}'\")\n",
    "print()\n",
    "print(f\"Target word: '{sentences[0][target_ids[0]]}'\")\n",
    "print()\n",
    "print(\"Predicted substitutes\", substitutes[0])"
   ]
  },
  {
   "cell_type": "code",
   "execution_count": null,
   "metadata": {},
   "outputs": [],
   "source": []
  },
  {
   "cell_type": "markdown",
   "metadata": {},
   "source": [
    "# Lemmatization example"
   ]
  },
  {
   "cell_type": "code",
   "execution_count": 8,
   "metadata": {},
   "outputs": [],
   "source": [
    "from lexsubgen.utils.lemmatize import nltk_lemmatize"
   ]
  },
  {
   "cell_type": "code",
   "execution_count": 9,
   "metadata": {},
   "outputs": [
    {
     "data": {
      "text/plain": [
       "['remain',\n",
       " 'join',\n",
       " 'enter',\n",
       " 'begin',\n",
       " 'turn',\n",
       " 'develop',\n",
       " 'receive',\n",
       " 'create',\n",
       " 'resemble',\n",
       " 'be']"
      ]
     },
     "execution_count": 9,
     "metadata": {},
     "output_type": "execute_result"
    }
   ],
   "source": [
    "nltk_lemmatize(['remains', 'join', 'enters', 'begin', 'turn', 'develops', 'receives', 'creates', 'resembles', 'is'], \"v\")"
   ]
  },
  {
   "cell_type": "code",
   "execution_count": 10,
   "metadata": {},
   "outputs": [
    {
     "data": {
      "text/plain": [
       "['be',\n",
       " 'get',\n",
       " 'remain',\n",
       " 'enter',\n",
       " 'win',\n",
       " 'join',\n",
       " 'play',\n",
       " 'begin',\n",
       " 'make',\n",
       " 'start']"
      ]
     },
     "execution_count": 10,
     "metadata": {},
     "output_type": "execute_result"
    }
   ],
   "source": [
    "nltk_lemmatize(['is', 'get', 'remains', 'enters', 'win', 'join', 'play', 'begin', 'make', 'start'], \"v\")"
   ]
  },
  {
   "cell_type": "code",
   "execution_count": null,
   "metadata": {},
   "outputs": [],
   "source": []
  }
 ],
 "metadata": {
  "kernelspec": {
   "display_name": "Python 3",
   "language": "python",
   "name": "python3"
  },
  "language_info": {
   "codemirror_mode": {
    "name": "ipython",
    "version": 3
   },
   "file_extension": ".py",
   "mimetype": "text/x-python",
   "name": "python",
   "nbconvert_exporter": "python",
   "pygments_lexer": "ipython3",
   "version": "3.7.4"
  }
 },
 "nbformat": 4,
 "nbformat_minor": 2
}
